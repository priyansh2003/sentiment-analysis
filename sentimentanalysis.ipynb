{
  "nbformat": 4,
  "nbformat_minor": 0,
  "metadata": {
    "colab": {
      "provenance": [],
      "authorship_tag": "ABX9TyNW+F8sZswetrAmxu2SP2MD",
      "include_colab_link": true
    },
    "kernelspec": {
      "name": "python3",
      "display_name": "Python 3"
    },
    "language_info": {
      "name": "python"
    }
  },
  "cells": [
    {
      "cell_type": "markdown",
      "metadata": {
        "id": "view-in-github",
        "colab_type": "text"
      },
      "source": [
        "<a href=\"https://colab.research.google.com/github/priyansh2003/sentiment-analysis/blob/main/sentimentanalysis.ipynb\" target=\"_parent\"><img src=\"https://colab.research.google.com/assets/colab-badge.svg\" alt=\"Open In Colab\"/></a>"
      ]
    },
    {
      "cell_type": "code",
      "execution_count": 1,
      "metadata": {
        "id": "inSKssVKYqYO"
      },
      "outputs": [],
      "source": [
        "import tensorflow as tf\n",
        "import numpy as np\n",
        "import pandas as pd\n",
        "import matplotlib.pyplot as plt\n"
      ]
    },
    {
      "cell_type": "code",
      "source": [
        "from tensorflow.keras.datasets import imdb\n",
        "(x_train, y_train), (x_test, y_test) = imdb.load_data(num_words=10000)\n"
      ],
      "metadata": {
        "colab": {
          "base_uri": "https://localhost:8080/"
        },
        "id": "JxaQyTuQY_Ea",
        "outputId": "24c476f2-0721-4ece-81a4-3b272dda4015"
      },
      "execution_count": 2,
      "outputs": [
        {
          "output_type": "stream",
          "name": "stdout",
          "text": [
            "Downloading data from https://storage.googleapis.com/tensorflow/tf-keras-datasets/imdb.npz\n",
            "17464789/17464789 [==============================] - 1s 0us/step\n"
          ]
        }
      ]
    },
    {
      "cell_type": "code",
      "source": [
        "max_len = 500\n",
        "x_train = tf.keras.preprocessing.sequence.pad_sequences(x_train, maxlen=max_len)\n",
        "x_test = tf.keras.preprocessing.sequence.pad_sequences(x_test, maxlen=max_len)\n",
        "\n",
        "y_train = tf.keras.utils.to_categorical(y_train, 2)\n",
        "y_test = tf.keras.utils.to_categorical(y_test, 2)\n",
        "\n"
      ],
      "metadata": {
        "id": "d-6ozaFfZNCM"
      },
      "execution_count": 3,
      "outputs": []
    },
    {
      "cell_type": "code",
      "source": [
        "model = tf.keras.Sequential([\n",
        "    tf.keras.layers.Embedding(10000, 128, input_length=max_len),\n",
        "    tf.keras.layers.LSTM(32),\n",
        "    tf.keras.layers.Dense(2, activation='softmax')\n",
        "])\n"
      ],
      "metadata": {
        "id": "AJB_Pm9XZlDb"
      },
      "execution_count": 4,
      "outputs": []
    },
    {
      "cell_type": "code",
      "source": [
        "model.compile(optimizer='adam', loss='categorical_crossentropy', metrics=['accuracy'])\n"
      ],
      "metadata": {
        "id": "CTWsMxbDZn2m"
      },
      "execution_count": 5,
      "outputs": []
    },
    {
      "cell_type": "code",
      "source": [
        "model.fit(x_train, y_train, epochs=10, batch_size=128)\n"
      ],
      "metadata": {
        "colab": {
          "base_uri": "https://localhost:8080/"
        },
        "id": "Mb0BgWPTZ6On",
        "outputId": "7e68b5dd-1b24-4d1c-87db-d648ded8ae76"
      },
      "execution_count": 6,
      "outputs": [
        {
          "output_type": "stream",
          "name": "stdout",
          "text": [
            "Epoch 1/10\n",
            "196/196 [==============================] - 132s 663ms/step - loss: 0.4232 - accuracy: 0.7994\n",
            "Epoch 2/10\n",
            "196/196 [==============================] - 130s 661ms/step - loss: 0.2238 - accuracy: 0.9162\n",
            "Epoch 3/10\n",
            "196/196 [==============================] - 124s 635ms/step - loss: 0.1816 - accuracy: 0.9334\n",
            "Epoch 4/10\n",
            "196/196 [==============================] - 126s 642ms/step - loss: 0.1213 - accuracy: 0.9572\n",
            "Epoch 5/10\n",
            "196/196 [==============================] - 124s 635ms/step - loss: 0.0813 - accuracy: 0.9736\n",
            "Epoch 6/10\n",
            "196/196 [==============================] - 123s 630ms/step - loss: 0.0738 - accuracy: 0.9756\n",
            "Epoch 7/10\n",
            "196/196 [==============================] - 125s 640ms/step - loss: 0.0860 - accuracy: 0.9712\n",
            "Epoch 8/10\n",
            "196/196 [==============================] - 125s 638ms/step - loss: 0.0474 - accuracy: 0.9853\n",
            "Epoch 9/10\n",
            "196/196 [==============================] - 124s 635ms/step - loss: 0.0566 - accuracy: 0.9808\n",
            "Epoch 10/10\n",
            "196/196 [==============================] - 125s 637ms/step - loss: 0.0309 - accuracy: 0.9916\n"
          ]
        },
        {
          "output_type": "execute_result",
          "data": {
            "text/plain": [
              "<keras.callbacks.History at 0x7f8415d95c10>"
            ]
          },
          "metadata": {},
          "execution_count": 6
        }
      ]
    },
    {
      "cell_type": "code",
      "source": [
        "loss, accuracy = model.evaluate(x_test, y_test)\n",
        "print(\"Loss:\", loss)\n",
        "print(\"Accuracy:\", accuracy)\n"
      ],
      "metadata": {
        "colab": {
          "base_uri": "https://localhost:8080/"
        },
        "id": "mYnT0PFUZ8YI",
        "outputId": "169695bc-b543-4e90-dd11-a4800a173ffb"
      },
      "execution_count": 7,
      "outputs": [
        {
          "output_type": "stream",
          "name": "stdout",
          "text": [
            "782/782 [==============================] - 46s 58ms/step - loss: 0.6606 - accuracy: 0.8538\n",
            "Loss: 0.6606196165084839\n",
            "Accuracy: 0.8538399934768677\n"
          ]
        }
      ]
    }
  ]
}